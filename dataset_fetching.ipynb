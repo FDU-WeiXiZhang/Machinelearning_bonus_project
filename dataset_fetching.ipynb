{
 "cells": [
  {
   "cell_type": "markdown",
   "metadata": {},
   "source": [
    "Run this python script to download the training and testing dataset from dropbox.\n",
    "If you failed to run this script below, you could download the dataset manually. The links are listed below:\n",
    "For training dataset: https://www.dropbox.com/sh/vq5iq66gg39stxd/AAAt00PRwYDuddfYGgGnZZ3Fa?dl=0\n",
    "For testing dataset: https://www.dropbox.com/sh/fniqhkuz74n4ssc/AAA_cnWJRFyMMkuyjV0ehwbda?dl=0\n",
    "For input dataset: https://www.dropbox.com/sh/km1y6qaa3pf3znk/AAAlgF4vkmJxz5oSc-BsWKTza?dl=0\n",
    "For output dataset: https://www.dropbox.com/sh/nethx9zl5c2swsu/AACSoxNY39RrOjhXz6-ONfFYa?dl=0\n"
   ]
  },
  {
   "cell_type": "code",
   "execution_count": null,
   "metadata": {},
   "outputs": [],
   "source": [
    "import urllib.request as urll\n",
    "import re\n",
    "import os\n",
    "import zipfile"
   ]
  },
  {
   "cell_type": "markdown",
   "metadata": {},
   "source": [
    "For both the training and testing dataset, there are about 765 .jpg files in the two folders. So it might take several minutes to download the zipped files and unzip them in your current path."
   ]
  },
  {
   "cell_type": "code",
   "execution_count": null,
   "metadata": {},
   "outputs": [],
   "source": [
    "if not os.path.isdir('train'):\n",
    "    os.makedirs('train')\n",
    "\n",
    "if not os.path.isdir('test'):\n",
    "    os.makedirs('test')\n",
    "\n",
    "if not os.path.isdir('input'):\n",
    "    os.makedirs('input')\n",
    "\n",
    "if not os.path.isdir('output'):\n",
    "    os.makedirs('output')\n",
    "    \n",
    "testdata_url = \"https://www.dropbox.com/sh/fniqhkuz74n4ssc/AAA_cnWJRFyMMkuyjV0ehwbda?dl=1\"\n",
    "traindata_url = \"https://www.dropbox.com/sh/vq5iq66gg39stxd/AAAt00PRwYDuddfYGgGnZZ3Fa?dl=1\"\n",
    "inputdata_url = \"https://www.dropbox.com/sh/km1y6qaa3pf3znk/AAAlgF4vkmJxz5oSc-BsWKTza?dl=1\"\n",
    "outputdata_url = \"https://www.dropbox.com/sh/nethx9zl5c2swsu/AACSoxNY39RrOjhXz6-ONfFYa?dl=1\"\n",
    "urll.urlretrieve(testdata_url,\"./test.zip\")\n",
    "urll.urlretrieve(traindata_url,\"./train.zip\")\n",
    "urll.urlretrieve(inputdata_url,\"./input.zip\")\n",
    "urll.urlretrieve(outputdata_url,\"./output.zip\")\n",
    "\n",
    "test = zipfile.ZipFile('./test.zip')\n",
    "test.extractall('./test')\n",
    "\n",
    "train = zipfile.ZipFile('./train.zip')\n",
    "train.extractall('./train')\n",
    "\n",
    "inputdata = zipfile.ZipFile('./input.zip')\n",
    "inputdata.extractall('./input')\n",
    "\n",
    "outputdata = zipfile.ZipFile('./output.zip')\n",
    "outputdata.extractall('./output')"
   ]
  },
  {
   "cell_type": "markdown",
   "metadata": {},
   "source": []
  },
  {
   "cell_type": "code",
   "execution_count": null,
   "metadata": {},
   "outputs": [],
   "source": []
  }
 ],
 "metadata": {
  "celltoolbar": "Attachments",
  "kernelspec": {
   "display_name": "Python 3",
   "language": "python",
   "name": "python3"
  },
  "language_info": {
   "codemirror_mode": {
    "name": "ipython",
    "version": 3
   },
   "file_extension": ".py",
   "mimetype": "text/x-python",
   "name": "python",
   "nbconvert_exporter": "python",
   "pygments_lexer": "ipython3",
   "version": "3.6.3"
  }
 },
 "nbformat": 4,
 "nbformat_minor": 2
}
